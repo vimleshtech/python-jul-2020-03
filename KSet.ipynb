{
 "cells": [
  {
   "cell_type": "code",
   "execution_count": 50,
   "metadata": {},
   "outputs": [],
   "source": [
    "\n",
    "#create class\n",
    "class KSet:\n",
    "        \n",
    "    def __init__(self,val=2):        \n",
    "        self.a =[val]        \n",
    "        \n",
    "    #method or function \n",
    "    def add(self,val):        \n",
    "        self.a.append(val)                \n",
    "            \n",
    "    def print_val(self):\n",
    "        print(self.a)\n",
    "        \n",
    "    def remove(self,val):\n",
    "        if val in self.a:\n",
    "            self.a.remove(val)        \n",
    "            \n",
    "    def uniqueValueCount(self):\n",
    "        print(len(set(self.a)))\n",
    "        \n",
    "    def contains(self,val):\n",
    "        if val in self.a:\n",
    "            print(True)\n",
    "        else:\n",
    "            print(False)\n",
    "            \n",
    "    def setK(self,val):\n",
    "        self.a[0]= val\n",
    "        \n",
    "    def empty(self):\n",
    "        #self.a =self.a[0]\n",
    "        self.a =[]\n",
    "               \n",
    "        \n",
    "        \n",
    "        "
   ]
  },
  {
   "cell_type": "code",
   "execution_count": 53,
   "metadata": {},
   "outputs": [
    {
     "name": "stdout",
     "output_type": "stream",
     "text": [
      "[2, 'x']\n",
      "[2, 'x', 'x']\n",
      "[2, 'x', 'x', 'x']\n",
      "[2, 'x', 'x', 'x', 'y']\n",
      "[2, 'x', 'x', 'y']\n",
      "3\n",
      "False\n",
      "True\n",
      "[2, 'x', 'x', 'y']\n",
      "[1, 'x', 'x', 'y']\n",
      "[]\n"
     ]
    }
   ],
   "source": [
    "#create object\n",
    "#o = KSet(10) #here o is object \n",
    "o = KSet()\n",
    "#print(o) #print address of o (object)\n",
    "\n",
    "o.add('x')\n",
    "o.print_val()\n",
    "o.add('x')\n",
    "o.print_val()\n",
    "o.add('x')\n",
    "o.print_val()\n",
    "o.add('y')\n",
    "o.print_val()\n",
    "o.remove('x')\n",
    "o.print_val()\n",
    "o.uniqueValueCount()\n",
    "o.contains('z')\n",
    "o.contains('y')\n",
    "o.print_val()\n",
    "o.setK(1)\n",
    "o.print_val()\n",
    "o.empty()\n",
    "o.print_val()"
   ]
  }
 ],
 "metadata": {
  "kernelspec": {
   "display_name": "Python 3",
   "language": "python",
   "name": "python3"
  },
  "language_info": {
   "codemirror_mode": {
    "name": "ipython",
    "version": 3
   },
   "file_extension": ".py",
   "mimetype": "text/x-python",
   "name": "python",
   "nbconvert_exporter": "python",
   "pygments_lexer": "ipython3",
   "version": "3.8.5"
  }
 },
 "nbformat": 4,
 "nbformat_minor": 4
}
